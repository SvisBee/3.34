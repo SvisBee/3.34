{
  "nbformat": 4,
  "nbformat_minor": 0,
  "metadata": {
    "colab": {
      "provenance": [],
      "authorship_tag": "ABX9TyNXiS5fImg2vfv631RnBqY5",
      "include_colab_link": true
    },
    "kernelspec": {
      "name": "python3",
      "display_name": "Python 3"
    },
    "language_info": {
      "name": "python"
    }
  },
  "cells": [
    {
      "cell_type": "markdown",
      "metadata": {
        "id": "view-in-github",
        "colab_type": "text"
      },
      "source": [
        "<a href=\"https://colab.research.google.com/github/SvisBee/3.34/blob/master/GenTestBD.ipynb\" target=\"_parent\"><img src=\"https://colab.research.google.com/assets/colab-badge.svg\" alt=\"Open In Colab\"/></a>"
      ]
    },
    {
      "cell_type": "code",
      "execution_count": null,
      "metadata": {
        "colab": {
          "base_uri": "https://localhost:8080/"
        },
        "id": "BK5w9mVOdJxr",
        "outputId": "9ec47642-4368-4b68-e2e4-748e673f6061"
      },
      "outputs": [
        {
          "output_type": "stream",
          "name": "stdout",
          "text": [
            "Requirement already satisfied: Faker in /usr/local/lib/python3.11/dist-packages (35.0.0)\n",
            "Requirement already satisfied: python-dateutil>=2.4 in /usr/local/lib/python3.11/dist-packages (from Faker) (2.8.2)\n",
            "Requirement already satisfied: typing-extensions in /usr/local/lib/python3.11/dist-packages (from Faker) (4.12.2)\n",
            "Requirement already satisfied: six>=1.5 in /usr/local/lib/python3.11/dist-packages (from python-dateutil>=2.4->Faker) (1.17.0)\n"
          ]
        }
      ],
      "source": [
        "!pip install Faker"
      ]
    },
    {
      "cell_type": "code",
      "source": [
        "import random\n",
        "import csv\n",
        "from datetime import datetime, timedelta\n",
        "from faker import Faker"
      ],
      "metadata": {
        "id": "ji5JwR2idT84"
      },
      "execution_count": null,
      "outputs": []
    },
    {
      "cell_type": "code",
      "source": [
        "# Русской локализацией для Faker\n",
        "fake = Faker(\"ru_RU\")\n",
        "\n",
        "roles_map = {\n",
        "    \"visitor\": 1,\n",
        "    \"candidate\": 2,\n",
        "    \"external_user\": 3\n",
        "}\n",
        "\n",
        "statuses_map = {\n",
        "  \"предзаявка\": 1,\n",
        "  \"на рассмотрении\": 2,\n",
        "  \"отклонена\": 3,\n",
        "  \"принята\": 4\n",
        "}\n",
        "\n",
        "semesters_data = [\n",
        "  {\"semester_id\": 1, \"start_date\": datetime(2024, 2, 1), \"end_date\": datetime(2024, 5, 31)},\n",
        "  {\"semester_id\": 2, \"start_date\": datetime(2024, 9, 1), \"end_date\": datetime(2024, 12, 31)}\n",
        "]\n",
        "\n",
        "courses_map = {\n",
        "  \"Java development\": 1,\n",
        "  \"Fronted development\": 2,\n",
        "  \"Testing\": 3,\n",
        "  \"Analitics\": 4,\n",
        "  \"DevOps Engineer\": 5,\n",
        "  \"Data Engineer\": 6,\n",
        "  \"System Engineer\": 7,\n",
        "  \"Data Science\": 8,\n",
        "  \"Test-Analyst\": 9\n",
        "}"
      ],
      "metadata": {
        "id": "StYut-gwdYtd"
      },
      "execution_count": null,
      "outputs": []
    },
    {
      "cell_type": "code",
      "source": [
        "def random_datetime_in_range(start, end):\n",
        "    \"\"\"Выбирает случайное время между start и end.\"\"\"\n",
        "    delta = end - start\n",
        "    random_days = random.randrange(delta.days + 1)\n",
        "    random_seconds = random.randrange(24 * 60 * 60)\n",
        "    return start + timedelta(days=random_days, seconds=random_seconds)\n",
        "\n",
        "def generate_users(num_users):\n",
        "    \"\"\"Генерация списка пользователей.\"\"\"\n",
        "    users = []\n",
        "    role_names = list(roles_map.keys())  # ['visitor', 'candidate', 'external_user']\n",
        "    role_weights = [0.1, 0.2, 0.7]  # Соответствующие вероятности\n",
        "\n",
        "    for i in range(1, num_users+1):\n",
        "        #user_id = f\"U{i:04d}\"  # 'U0001', 'U0002', ...\n",
        "        user_id = fake.numerify(\"##########\")  # 10 случайных цифр, например \"9274031850\"\n",
        "\n",
        "        #first_name = fake.first_name()\n",
        "        #last_name = fake.last_name()\n",
        "\n",
        "        # Определяем, мужчина или женщина\n",
        "        is_male = random.random() < 0.5\n",
        "        if is_male:\n",
        "            first_name = fake.first_name_male()\n",
        "            last_name = fake.last_name_male()\n",
        "        else:\n",
        "            first_name = fake.first_name_female()\n",
        "            last_name = fake.last_name_female()\n",
        "\n",
        "        phone = fake.numerify(\"9#########\")  # 10 цифр\n",
        "        email = fake.email()\n",
        "        city = fake.city_name()\n",
        "\n",
        "        # Выбираем роль с заданными вероятностями\n",
        "        role_name = random.choices(role_names, weights=role_weights, k=1)[0]\n",
        "        role_id = roles_map[role_name]\n",
        "\n",
        "        users.append({\n",
        "            \"user_id\": user_id,\n",
        "            \"first_name\": first_name if role_id != 1 else \"\",\n",
        "            \"last_name\": last_name if role_id != 1 else \"\",\n",
        "            \"phone\": phone if role_id != 1 else \"\",\n",
        "            \"email\": email if role_id != 1 else \"\",\n",
        "            \"role_id\": role_id,\n",
        "            \"city\": city if role_id != 1 else \"\"\n",
        "        })\n",
        "    return users\n",
        "\n",
        "def generate_applications(users):\n",
        "    \"\"\"Генерация заявок (applications) для пользователей.\"\"\"\n",
        "\n",
        "    applications = []\n",
        "    app_id_counter = 1\n",
        "\n",
        "    for user in users:\n",
        "        if user[\"role_id\"] == 1:\n",
        "            # Пользователи с ролью 1 (visitor) не имеют заявок\n",
        "            continue\n",
        "\n",
        "        else:\n",
        "            # Определяем возможные статусы в зависимости от роли\n",
        "            if user[\"role_id\"] == 3: # external_user\n",
        "                # Для role_id 3 исключаем статус 'предзаявка' (1)\n",
        "                possible_statuses = [\"на рассмотрении\", \"отклонена\", \"принята\"]\n",
        "            else:\n",
        "                possible_statuses = [\"предзаявка\"]\n",
        "\n",
        "            # Выбираем начальный статус из возможных\n",
        "            initial_status = random.choice(possible_statuses)\n",
        "            status_id = statuses_map[initial_status]\n",
        "\n",
        "            # Берём случайный курс из словаря\n",
        "            # Если это 'предзаявка', то у заявки не может быть course_id\n",
        "            if status_id == 1:\n",
        "                c_id = None\n",
        "            else:\n",
        "                # Выбираем случайный курс\n",
        "                _, c_id = random.choice(list(courses_map.items()))\n",
        "\n",
        "            # Выбираем семестр и генерируем даты\n",
        "            semester = random.choice(semesters_data)\n",
        "            creation_dt = random_datetime_in_range(semester[\"start_date\"], semester[\"end_date\"])\n",
        "\n",
        "            # change_time = creation_time + случайный интервал\n",
        "            change_dt = creation_dt + timedelta(days=random.randint(0, 10))\n",
        "\n",
        "            applications.append({\n",
        "                \"app_id\": app_id_counter,\n",
        "                \"user_id\": user[\"user_id\"],\n",
        "                \"course_id\": c_id, # может быть None\n",
        "                \"status_id\": status_id,\n",
        "                \"creation_time\": creation_dt.strftime(\"%Y-%m-%d %H:%M:%S\"),\n",
        "                \"change_time\": change_dt.strftime(\"%Y-%m-%d %H:%M:%S\"),\n",
        "                \"semester_id\": semester[\"semester_id\"]\n",
        "            })\n",
        "            app_id_counter += 1\n",
        "    return applications\n",
        "\n",
        "def generate_status_changes(applications, prob_change=0.4):\n",
        "    \"\"\"\n",
        "    Генерирует историю смены статусов (status_changes).\n",
        "    С вероятностью prob_change заявка переходит на новый статус (\"принята\"/\"отклонена\").\n",
        "    \"\"\"\n",
        "    changes = []\n",
        "    change_id_counter = 1\n",
        "\n",
        "    for app in applications:\n",
        "        current_status = app[\"status_id\"]\n",
        "\n",
        "        if current_status != 2:\n",
        "          continue\n",
        "        else:\n",
        "            old_status_id = current_status\n",
        "\n",
        "            # С вероятностью prob_change изменяем статус на \"принята\" или \"отклонена\"\n",
        "            if random.random() < prob_change:\n",
        "                new_status_name = random.choice([\"принята\", \"отклонена\"])\n",
        "                new_status_id = statuses_map[new_status_name]\n",
        "\n",
        "                changes.append({\n",
        "                    \"change_id\": change_id_counter,\n",
        "                    \"app_id\": app[\"app_id\"],\n",
        "                    \"old_status_id\": old_status_id,\n",
        "                    \"new_status_id\": new_status_id\n",
        "                })\n",
        "                change_id_counter += 1\n",
        "\n",
        "                # Обновляем заявку\n",
        "                app[\"status_id\"] = new_status_id\n",
        "\n",
        "    return changes\n",
        "\n",
        "def save_csv(data_list, filename, fieldnames):\n",
        "    \"\"\"\n",
        "    Сохранения списка словарей в CSV.\n",
        "    \"\"\"\n",
        "    with open(filename, \"w\", newline=\"\", encoding=\"utf-8\") as f:\n",
        "        writer = csv.DictWriter(f, fieldnames=fieldnames)\n",
        "        writer.writeheader()\n",
        "        writer.writerows(data_list)"
      ],
      "metadata": {
        "id": "AKGydsUkdfZ3"
      },
      "execution_count": null,
      "outputs": []
    },
    {
      "cell_type": "code",
      "source": [
        "# Генерируем пользователей\n",
        "\n",
        "'''Указание количества пользователей'''\n",
        "users = generate_users(num_users=5000)\n",
        "'''---------------------------------'''\n",
        "\n",
        "save_csv(\n",
        "    users,\n",
        "    filename=\"users_test_data.csv\",\n",
        "    fieldnames=[\"user_id\", \"first_name\", \"last_name\", \"phone\", \"email\", \"role_id\", \"city\"]\n",
        ")\n",
        "print(f\"Сохранено {len(users)} пользователей в users_test_data.csv\")\n",
        "\n",
        "# Генерируем заявки\n",
        "applications = generate_applications(users)\n",
        "save_csv(\n",
        "    applications,\n",
        "    filename=\"applications_test_data.csv\",\n",
        "    fieldnames=[\"app_id\",\"user_id\",\"course_id\",\"status_id\",\"creation_time\",\"change_time\",\"semester_id\"]\n",
        ")\n",
        "print(f\"Сохранено {len(applications)} заявок в applications_test_data.csv\")\n",
        "\n",
        "# Генерируем историю смены статусов\n",
        "status_changes_list = generate_status_changes(applications, prob_change=0.4)\n",
        "save_csv(\n",
        "    status_changes_list,\n",
        "    filename=\"status_changes_test_data.csv\",\n",
        "    fieldnames=[\"change_id\",\"app_id\",\"old_status_id\",\"new_status_id\"]\n",
        ")\n",
        "print(f\"Сохранено {len(status_changes_list)} смен статусов в status_changes_test_data.csv\")\n",
        "\n",
        "# Перезапишем applications с учётом новых статусов\n",
        "save_csv(\n",
        "    applications,\n",
        "    filename=\"applications_test_data_final.csv\",\n",
        "    fieldnames=[\"app_id\",\"user_id\",\"course_id\",\"status_id\",\"creation_time\",\"change_time\",\"semester_id\"]\n",
        ")\n",
        "print(\"Обновлённые заявки сохранены в applications_test_data_final.csv\")"
      ],
      "metadata": {
        "colab": {
          "base_uri": "https://localhost:8080/"
        },
        "id": "RYSeY8c8drfE",
        "outputId": "49eb1a93-5ad9-44ab-c872-6eebd796777d"
      },
      "execution_count": null,
      "outputs": [
        {
          "output_type": "stream",
          "name": "stdout",
          "text": [
            "Сохранено 5000 пользователей в users_test_data.csv\n",
            "Сохранено 4521 заявок в applications_test_data.csv\n",
            "Сохранено 445 смен статусов в status_changes_test_data.csv\n",
            "Обновлённые заявки сохранены в applications_test_data_final.csv\n"
          ]
        }
      ]
    }
  ]
}